{
 "cells": [
  {
   "cell_type": "markdown",
   "id": "d4a36f71",
   "metadata": {},
   "source": [
    "# Exploración del Dataset\n",
    "\n",
    "Este notebook proporciona información sobre cada .csv del dataset, contestando a estas preguntas:\n",
    "\n",
    "- ¿Qué nos proporciona este archivo?\n",
    "- ¿Qué columnas no son importantes para predicciones?\n",
    "- ¿Qué predicciones puede ayudar a construir este archivo?\n",
    "\n",
    "La estructura de este dataset és el siguiente:\n",
    "\n",
    "- circuits.csv\n",
    "- constructor_results.csv\n",
    "- constructor_standings.csv \n",
    "- constructors.csv\n",
    "- driver_standings.csv\n",
    "- drivers.csv\n",
    "- lap_times.csv\n",
    "- pit_stops.csv\n",
    "- qualifying.csv\n",
    "- races.csv\n",
    "- results.csv\n",
    "- seasons.csv \n",
    "- sprint_results.csv\n",
    "- status.csv"
   ]
  },
  {
   "cell_type": "code",
   "execution_count": 6,
   "id": "9466d3d7",
   "metadata": {},
   "outputs": [],
   "source": [
    "#Importar liberías\n",
    "import pandas as pd\n",
    "import matplotlib.pyplot as plt\n",
    "import seaborn as sns"
   ]
  },
  {
   "cell_type": "markdown",
   "id": "938bbb85",
   "metadata": {},
   "source": [
    "## Circuits.csv"
   ]
  },
  {
   "cell_type": "code",
   "execution_count": 12,
   "id": "675b119c",
   "metadata": {},
   "outputs": [
    {
     "name": "stdout",
     "output_type": "stream",
     "text": [
      "Primeras 5 filas:\n"
     ]
    },
    {
     "data": {
      "text/html": [
       "<div>\n",
       "<style scoped>\n",
       "    .dataframe tbody tr th:only-of-type {\n",
       "        vertical-align: middle;\n",
       "    }\n",
       "\n",
       "    .dataframe tbody tr th {\n",
       "        vertical-align: top;\n",
       "    }\n",
       "\n",
       "    .dataframe thead th {\n",
       "        text-align: right;\n",
       "    }\n",
       "</style>\n",
       "<table border=\"1\" class=\"dataframe\">\n",
       "  <thead>\n",
       "    <tr style=\"text-align: right;\">\n",
       "      <th></th>\n",
       "      <th>circuitId</th>\n",
       "      <th>circuitRef</th>\n",
       "      <th>name</th>\n",
       "      <th>location</th>\n",
       "      <th>country</th>\n",
       "      <th>lat</th>\n",
       "      <th>lng</th>\n",
       "      <th>alt</th>\n",
       "      <th>url</th>\n",
       "    </tr>\n",
       "  </thead>\n",
       "  <tbody>\n",
       "    <tr>\n",
       "      <th>0</th>\n",
       "      <td>1</td>\n",
       "      <td>albert_park</td>\n",
       "      <td>Albert Park Grand Prix Circuit</td>\n",
       "      <td>Melbourne</td>\n",
       "      <td>Australia</td>\n",
       "      <td>-37.84970</td>\n",
       "      <td>144.96800</td>\n",
       "      <td>10</td>\n",
       "      <td>http://en.wikipedia.org/wiki/Melbourne_Grand_P...</td>\n",
       "    </tr>\n",
       "    <tr>\n",
       "      <th>1</th>\n",
       "      <td>2</td>\n",
       "      <td>sepang</td>\n",
       "      <td>Sepang International Circuit</td>\n",
       "      <td>Kuala Lumpur</td>\n",
       "      <td>Malaysia</td>\n",
       "      <td>2.76083</td>\n",
       "      <td>101.73800</td>\n",
       "      <td>18</td>\n",
       "      <td>http://en.wikipedia.org/wiki/Sepang_Internatio...</td>\n",
       "    </tr>\n",
       "    <tr>\n",
       "      <th>2</th>\n",
       "      <td>3</td>\n",
       "      <td>bahrain</td>\n",
       "      <td>Bahrain International Circuit</td>\n",
       "      <td>Sakhir</td>\n",
       "      <td>Bahrain</td>\n",
       "      <td>26.03250</td>\n",
       "      <td>50.51060</td>\n",
       "      <td>7</td>\n",
       "      <td>http://en.wikipedia.org/wiki/Bahrain_Internati...</td>\n",
       "    </tr>\n",
       "    <tr>\n",
       "      <th>3</th>\n",
       "      <td>4</td>\n",
       "      <td>catalunya</td>\n",
       "      <td>Circuit de Barcelona-Catalunya</td>\n",
       "      <td>Montmeló</td>\n",
       "      <td>Spain</td>\n",
       "      <td>41.57000</td>\n",
       "      <td>2.26111</td>\n",
       "      <td>109</td>\n",
       "      <td>http://en.wikipedia.org/wiki/Circuit_de_Barcel...</td>\n",
       "    </tr>\n",
       "    <tr>\n",
       "      <th>4</th>\n",
       "      <td>5</td>\n",
       "      <td>istanbul</td>\n",
       "      <td>Istanbul Park</td>\n",
       "      <td>Istanbul</td>\n",
       "      <td>Turkey</td>\n",
       "      <td>40.95170</td>\n",
       "      <td>29.40500</td>\n",
       "      <td>130</td>\n",
       "      <td>http://en.wikipedia.org/wiki/Istanbul_Park</td>\n",
       "    </tr>\n",
       "  </tbody>\n",
       "</table>\n",
       "</div>"
      ],
      "text/plain": [
       "   circuitId   circuitRef                            name      location  \\\n",
       "0          1  albert_park  Albert Park Grand Prix Circuit     Melbourne   \n",
       "1          2       sepang    Sepang International Circuit  Kuala Lumpur   \n",
       "2          3      bahrain   Bahrain International Circuit        Sakhir   \n",
       "3          4    catalunya  Circuit de Barcelona-Catalunya      Montmeló   \n",
       "4          5     istanbul                   Istanbul Park      Istanbul   \n",
       "\n",
       "     country       lat        lng  alt  \\\n",
       "0  Australia -37.84970  144.96800   10   \n",
       "1   Malaysia   2.76083  101.73800   18   \n",
       "2    Bahrain  26.03250   50.51060    7   \n",
       "3      Spain  41.57000    2.26111  109   \n",
       "4     Turkey  40.95170   29.40500  130   \n",
       "\n",
       "                                                 url  \n",
       "0  http://en.wikipedia.org/wiki/Melbourne_Grand_P...  \n",
       "1  http://en.wikipedia.org/wiki/Sepang_Internatio...  \n",
       "2  http://en.wikipedia.org/wiki/Bahrain_Internati...  \n",
       "3  http://en.wikipedia.org/wiki/Circuit_de_Barcel...  \n",
       "4         http://en.wikipedia.org/wiki/Istanbul_Park  "
      ]
     },
     "metadata": {},
     "output_type": "display_data"
    },
    {
     "name": "stdout",
     "output_type": "stream",
     "text": [
      "\n",
      "Columnas: \n",
      "['circuitId', 'circuitRef', 'name', 'location', 'country', 'lat', 'lng', 'alt', 'url']\n",
      "Registros: 77\n",
      "Columnas: 9\n"
     ]
    }
   ],
   "source": [
    "circuits_data = pd.read_csv('../data/original/circuits.csv')\n",
    "\n",
    "print(\"Primeras 5 filas:\")\n",
    "display(circuits_data.head())\n",
    "\n",
    "print(\"\\nColumnas: \")\n",
    "print(circuits_data.columns.tolist())\n",
    "\n",
    "print(f\"Registros: {circuits_data.shape[0]}\")\n",
    "print(f\"Columnas: {circuits_data.shape[1]}\")\n"
   ]
  },
  {
   "cell_type": "markdown",
   "id": "e8c837a8",
   "metadata": {},
   "source": [
    "### Análisis del archivo `circuits.csv`\n",
    "\n",
    "1. ¿Qué nos proporciona este archivo?\n",
    "\n",
    "Este archivo contiene información geográfica y descriptiva de cada circuito en el campeonato de F1.\n",
    "\n",
    "La columnas principales són:\n",
    "- `circuitId`: ID único del circuito\n",
    "- `circuitRef`: Nombre simplificado del circuito\n",
    "- `name`: Nombre del circuito\n",
    "- `location`: Ciudad o región del circuito\n",
    "- `country`: País\n",
    "- `lat`, `lng`: Coordenadas geográficas\n",
    "- `alt`: Altitud del circuito\n",
    "- `url`: Enlace a Wikipedia\n",
    "\n",
    "2. ¿Qué columnas son importantes para predicciones?\n",
    "\n",
    "Las columnas importantes en este dataset són:\n",
    "- `circuitId`: ID del circuito\n",
    "- `country`: País del circuito\n",
    "- `alt`, `lat`, `lng`: Útiles por si:\n",
    "    - Altitud afecta el comportamiento del coche?\n",
    "    - Latitud o país podría ser útil por el clima.\n",
    "\n",
    "3. ¿Qué predicciones se pueden hacer?\n",
    "\n",
    "Este archivo lo utilizaré solo para enriquerecer el dataset de entrenamiento."
   ]
  },
  {
   "cell_type": "markdown",
   "id": "d9005db3",
   "metadata": {},
   "source": [
    "## Constructor_results.csv"
   ]
  },
  {
   "cell_type": "code",
   "execution_count": 15,
   "id": "2997f41c",
   "metadata": {},
   "outputs": [
    {
     "name": "stdout",
     "output_type": "stream",
     "text": [
      "Primeras 5 filas:\n"
     ]
    },
    {
     "data": {
      "text/html": [
       "<div>\n",
       "<style scoped>\n",
       "    .dataframe tbody tr th:only-of-type {\n",
       "        vertical-align: middle;\n",
       "    }\n",
       "\n",
       "    .dataframe tbody tr th {\n",
       "        vertical-align: top;\n",
       "    }\n",
       "\n",
       "    .dataframe thead th {\n",
       "        text-align: right;\n",
       "    }\n",
       "</style>\n",
       "<table border=\"1\" class=\"dataframe\">\n",
       "  <thead>\n",
       "    <tr style=\"text-align: right;\">\n",
       "      <th></th>\n",
       "      <th>constructorResultsId</th>\n",
       "      <th>raceId</th>\n",
       "      <th>constructorId</th>\n",
       "      <th>points</th>\n",
       "      <th>status</th>\n",
       "    </tr>\n",
       "  </thead>\n",
       "  <tbody>\n",
       "    <tr>\n",
       "      <th>0</th>\n",
       "      <td>1</td>\n",
       "      <td>18</td>\n",
       "      <td>1</td>\n",
       "      <td>14.0</td>\n",
       "      <td>\\N</td>\n",
       "    </tr>\n",
       "    <tr>\n",
       "      <th>1</th>\n",
       "      <td>2</td>\n",
       "      <td>18</td>\n",
       "      <td>2</td>\n",
       "      <td>8.0</td>\n",
       "      <td>\\N</td>\n",
       "    </tr>\n",
       "    <tr>\n",
       "      <th>2</th>\n",
       "      <td>3</td>\n",
       "      <td>18</td>\n",
       "      <td>3</td>\n",
       "      <td>9.0</td>\n",
       "      <td>\\N</td>\n",
       "    </tr>\n",
       "    <tr>\n",
       "      <th>3</th>\n",
       "      <td>4</td>\n",
       "      <td>18</td>\n",
       "      <td>4</td>\n",
       "      <td>5.0</td>\n",
       "      <td>\\N</td>\n",
       "    </tr>\n",
       "    <tr>\n",
       "      <th>4</th>\n",
       "      <td>5</td>\n",
       "      <td>18</td>\n",
       "      <td>5</td>\n",
       "      <td>2.0</td>\n",
       "      <td>\\N</td>\n",
       "    </tr>\n",
       "  </tbody>\n",
       "</table>\n",
       "</div>"
      ],
      "text/plain": [
       "   constructorResultsId  raceId  constructorId  points status\n",
       "0                     1      18              1    14.0     \\N\n",
       "1                     2      18              2     8.0     \\N\n",
       "2                     3      18              3     9.0     \\N\n",
       "3                     4      18              4     5.0     \\N\n",
       "4                     5      18              5     2.0     \\N"
      ]
     },
     "metadata": {},
     "output_type": "display_data"
    },
    {
     "name": "stdout",
     "output_type": "stream",
     "text": [
      "\n",
      "Columnas: \n",
      "['constructorResultsId', 'raceId', 'constructorId', 'points', 'status']\n"
     ]
    },
    {
     "data": {
      "image/png": "[encoded data removed]",
      "text/plain": [
       "<Figure size 1200x600 with 1 Axes>"
      ]
     },
     "metadata": {},
     "output_type": "display_data"
    },
    {
     "name": "stdout",
     "output_type": "stream",
     "text": [
      "\n",
      "Status únicos:\n",
      "['\\\\N' 'D']\n",
      "Registros: 12625\n",
      "Registros solo con puntos > 0: 5640\n",
      "Columnas: 5\n"
     ]
    }
   ],
   "source": [
    "constructor_results = pd.read_csv('../data/original/constructor_results.csv')\n",
    "\n",
    "print(\"Primeras 5 filas:\")\n",
    "display(constructor_results.head())\n",
    "\n",
    "print(\"\\nColumnas: \")\n",
    "print(constructor_results.columns.tolist())\n",
    "\n",
    "constructor_results_filtered = constructor_results[constructor_results['points'] > 0]\n",
    "\n",
    "#Distribución de puntos por constructor\n",
    "plt.figure(figsize=(12, 6))\n",
    "constructor_results_filtered['points'].hist(bins=30, edgecolor='black')\n",
    "plt.title('Distribución de puntos por constructor')\n",
    "plt.xlabel('Puntos')\n",
    "plt.ylabel('Frecuencia')\n",
    "plt.show()\n",
    "\n",
    "#Estados\n",
    "print(\"\\nStatus únicos:\")\n",
    "print(constructor_results['status'].unique())\n",
    "\n",
    "print(f\"Registros: {constructor_results.shape[0]}\")\n",
    "print(f\"Registros solo con puntos > 0: {constructor_results_filtered.shape[0]}\")\n",
    "print(f\"Columnas: {constructor_results_filtered.shape[1]}\")"
   ]
  }
 ],
 "metadata": {
  "kernelspec": {
   "display_name": "entorno",
   "language": "python",
   "name": "python3"
  },
  "language_info": {
   "codemirror_mode": {
    "name": "ipython",
    "version": 3
   },
   "file_extension": ".py",
   "mimetype": "text/x-python",
   "name": "python",
   "nbconvert_exporter": "python",
   "pygments_lexer": "ipython3",
   "version": "3.11.4"
  }
 },
 "nbformat": 4,
 "nbformat_minor": 5
}
